{
 "cells": [
  {
   "cell_type": "code",
   "execution_count": 1,
   "metadata": {},
   "outputs": [],
   "source": [
    "import numpy as np\n",
    "import sympy as sp\n",
    "import matplotlib.pyplot as plt\n",
    "import process_model as pm\n",
    "\n",
    "%load_ext autoreload\n",
    "%autoreload 2"
   ]
  },
  {
   "cell_type": "code",
   "execution_count": 2,
   "metadata": {},
   "outputs": [
    {
     "data": {
      "text/plain": [
       "(4,)"
      ]
     },
     "execution_count": 2,
     "metadata": {},
     "output_type": "execute_result"
    }
   ],
   "source": [
    "inverted_pendulum = pm.InvertedPendulum(\n",
    "    1.0,\n",
    "    2.0,\n",
    "    30.0,\n",
    "    0.4,\n",
    "    5.0,\n",
    ")\n",
    "\n",
    "(inverted_pendulum.dynamics_continuous([0,0,0,0], [0])).shape"
   ]
  },
  {
   "cell_type": "code",
   "execution_count": 3,
   "metadata": {},
   "outputs": [],
   "source": [
    "timespan = 20\n",
    "Ts = 0.01\n",
    "initial_state = np.array([0.0, 0.0, 0.01, 0.0])\n",
    "\n",
    "simulator = pm.PlantSimulator(\n",
    "    plant=inverted_pendulum.dynamics_continuous,\n",
    "    timestep=Ts,\n",
    "    simulation_time=timespan,\n",
    ")\n",
    "\n",
    "#TODO: test if integration still works as expected after refactor.\n",
    "# state_evolution, t = inverted_pendulum.simulate_system(initial_state, timespan, Ts)\n",
    "\n",
    "# inverted_pendulum.plot_state_evolution(state_evolution, t)"
   ]
  },
  {
   "cell_type": "code",
   "execution_count": 4,
   "metadata": {},
   "outputs": [],
   "source": [
    "process_dynamics = inverted_pendulum.dynamics_continuous_sym()\n",
    "dynamics_jacobian_x = process_dynamics.jacobian(sp.symbols(\"x1:5\"))\n",
    "A_c = dynamics_jacobian_x.evalf(subs={'x1': 0.0, 'x2': 0.0, 'x3':0.0, 'x4':0.0})\n",
    "A_c = np.array(A_c).astype(np.float64)\n",
    "\n",
    "dynamics_jacobian_u = process_dynamics.jacobian([sp.symbols(\"u\")])\n",
    "B_c = dynamics_jacobian_u.evalf(subs={'x1': 0.0, 'x2': 0.0, 'x3':0.0, 'x4':0.0})\n",
    "B_c = np.array(B_c).astype(np.float64)"
   ]
  },
  {
   "cell_type": "code",
   "execution_count": 5,
   "metadata": {},
   "outputs": [],
   "source": [
    "# Euler forward discretization of system\n",
    "A_d = np.eye(A_c.shape[0]) + Ts * A_c\n",
    "B_d = Ts * B_c"
   ]
  },
  {
   "cell_type": "markdown",
   "metadata": {},
   "source": [
    "# LQR Controller Design\n",
    "## Wikipedia:\n",
    "the optimal control sequence minimizing the performance index is given by:\n",
    "$$\n",
    "u_{k}=-Fx_{k}\\,\n",
    "$$\n",
    "where:\n",
    "$$\n",
    "F=(R+B^{T}PB)^{{-1}}(B^{T}PA+N^{T})\\,\n",
    "$$\n",
    "and $P$ is the unique positive definite solution to the discrete time algebraic Riccati equation (DARE). $P$ can be found by iterating the dynamic Riccati equation until it converges:\n",
    "$$\n",
    "P_{{k-1}}=A^{T}P_{k}A-(A^{T}P_{k}B+N)\\left(R+B^{T}P_{k}B\\right)^{{-1}}(B^{T}P_{k}A+N^{T})+Q\n",
    "$$ \n",
    "from terminal condition $P_{N}=Q$."
   ]
  },
  {
   "cell_type": "code",
   "execution_count": 6,
   "metadata": {},
   "outputs": [
    {
     "name": "stdout",
     "output_type": "stream",
     "text": [
      "[[  206735.65963734   212606.48660443   974297.39071374   311232.09835371]\n",
      " [  212606.48660443   336810.60033104  1693245.06588307   540918.65328672]\n",
      " [  974297.39071374  1693245.06588307 14848105.49531863  4671986.50159062]\n",
      " [  311232.09835371   540918.65328672  4671986.50159062  1472038.00099734]]\n"
     ]
    }
   ],
   "source": [
    "R = 1\n",
    "Q = np.eye(A_d.shape[0])\n",
    "Q[0,0] = Q[2,2] = 1000\n",
    "\n",
    "P = Q\n",
    "\n",
    "while True:\n",
    "    P_new = A_d.transpose() @ P @ A_d - (A_d.transpose() @ P @ B_d) @ np.linalg.inv(R + B_d.transpose() @ P @ B_d) @ (B_d.transpose() @ P @ A_d) + Q\n",
    "    if np.linalg.norm(P-P_new) < 1e-5:\n",
    "        P = P_new\n",
    "        break\n",
    "    else:\n",
    "        P = P_new\n",
    "        \n",
    "print(P)"
   ]
  },
  {
   "cell_type": "code",
   "execution_count": 8,
   "metadata": {},
   "outputs": [
    {
     "name": "stdout",
     "output_type": "stream",
     "text": [
      "[[ -30.41806227  -63.2849817  -948.34028801 -296.36238705]]\n"
     ]
    },
    {
     "data": {
      "image/png": "[encoded data removed]",
      "text/plain": [
       "<Figure size 432x288 with 4 Axes>"
      ]
     },
     "metadata": {
      "needs_background": "light"
     },
     "output_type": "display_data"
    }
   ],
   "source": [
    "F_inf = np.linalg.inv(R + B_d.transpose() @ P @ B_d) @ (B_d.transpose() @ P @ A_d)\n",
    "\n",
    "print(F_inf)\n",
    "\n",
    "#return the element in the array and not the array itself to avoid a warning\n",
    "lqr_controller = lambda x: (-F_inf @ x)[0]\n",
    "\n",
    "inverted_pendulum.set_controller(lqr_controller)\n",
    "\n",
    "state_evolution, t = inverted_pendulum.simulate_system(initial_state, timespan, Ts)\n",
    "\n",
    "inverted_pendulum.plot_state_evolution(state_evolution, t)"
   ]
  },
  {
   "cell_type": "code",
   "execution_count": 9,
   "metadata": {},
   "outputs": [
    {
     "data": {
      "image/png": "[encoded data removed]",
      "text/plain": [
       "<Figure size 432x288 with 1 Axes>"
      ]
     },
     "metadata": {
      "needs_background": "light"
     },
     "output_type": "display_data"
    }
   ],
   "source": [
    "inverted_pendulum.plot_actuator_commands(state_evolution, t)"
   ]
  },
  {
   "cell_type": "code",
   "execution_count": null,
   "metadata": {},
   "outputs": [],
   "source": []
  }
 ],
 "metadata": {
  "interpreter": {
   "hash": "b2584329f10c13930cf30ec3e6bcf5fe94d30a715025875437cbb1c72ac2791e"
  },
  "kernelspec": {
   "display_name": "Python 3.7.7 64-bit",
   "language": "python",
   "name": "python3"
  },
  "language_info": {
   "codemirror_mode": {
    "name": "ipython",
    "version": 3
   },
   "file_extension": ".py",
   "mimetype": "text/x-python",
   "name": "python",
   "nbconvert_exporter": "python",
   "pygments_lexer": "ipython3",
   "version": "3.7.7"
  },
  "orig_nbformat": 4
 },
 "nbformat": 4,
 "nbformat_minor": 2
}
